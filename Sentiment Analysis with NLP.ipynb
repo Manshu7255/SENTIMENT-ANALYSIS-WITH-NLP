{
 "cells": [
  {
   "cell_type": "markdown",
   "id": "97a150a7",
   "metadata": {},
   "source": [
    "#  Sentiment Analysis with NLP\n",
    "# (Project 2)"
   ]
  },
  {
   "cell_type": "markdown",
   "id": "89d16657",
   "metadata": {},
   "source": [
    "# Objective\n",
    "Perform sentiment analysis using TF-IDF vectorization and Logistic Regression on an IMDB Dataset containing close to 50000 Movie Reviews."
   ]
  },
  {
   "cell_type": "markdown",
   "id": "9ebe922e",
   "metadata": {},
   "source": [
    "# 1: Import Required Libraries"
   ]
  },
  {
   "cell_type": "code",
   "execution_count": 30,
   "id": "40ca0a7c",
   "metadata": {},
   "outputs": [],
   "source": [
    "import pandas as pd\n",
    "from sklearn.model_selection import train_test_split\n",
    "from sklearn.feature_extraction.text import TfidfVectorizer\n",
    "from sklearn.linear_model import LogisticRegression\n",
    "from sklearn.metrics import classification_report, accuracy_score\n"
   ]
  },
  {
   "cell_type": "markdown",
   "id": "e08ac9cc",
   "metadata": {},
   "source": [
    "# 2: Load the Dataset"
   ]
  },
  {
   "cell_type": "code",
   "execution_count": 33,
   "id": "2aaa1b62",
   "metadata": {},
   "outputs": [
    {
     "name": "stdout",
     "output_type": "stream",
     "text": [
      "Dataset loaded. Shape: (50000, 2)\n",
      "\n",
      "First 5 rows:\n",
      "                                              review sentiment\n",
      "0  One of the other reviewers has mentioned that ...  positive\n",
      "1  A wonderful little production. <br /><br />The...  positive\n",
      "2  I thought this was a wonderful way to spend ti...  positive\n",
      "3  Basically there's a family where a little boy ...  negative\n",
      "4  Petter Mattei's \"Love in the Time of Money\" is...  positive\n"
     ]
    }
   ],
   "source": [
    "# Adding the IMdb dataset \n",
    "df = pd.read_csv('IMDB Dataset.csv')\n",
    "\n",
    "\n",
    "print(\"Dataset loaded. Shape:\", df.shape)\n",
    "print(\"\\nFirst 5 rows:\")\n",
    "print(df.head())\n"
   ]
  },
  {
   "cell_type": "markdown",
   "id": "7ab47282",
   "metadata": {},
   "source": [
    "# 3: Clean And Prepare the Data"
   ]
  },
  {
   "cell_type": "code",
   "execution_count": 36,
   "id": "88c4a5a8",
   "metadata": {},
   "outputs": [],
   "source": [
    "def clean_text(text):\n",
    "   \n",
    "    text = re.sub(r'<.*?>', '', text) # It removes HTML tags.\n",
    "    return text\n",
    "\n",
    "# Apply the cleaning function to the review column\n",
    "df['review'] = df['review'].apply(clean_text)\n",
    "\n",
    "# Map sentiment labels to numerical values\n",
    "# positive - 1, negative - 0\n",
    "df['sentiment'] = df['sentiment'].map({'positive': 1, 'negative': 0})\n",
    "\n",
    "# Define features (X) and target (y)\n",
    "X = df['review']\n",
    "y = df['sentiment']"
   ]
  },
  {
   "cell_type": "markdown",
   "id": "5492bb94",
   "metadata": {},
   "source": [
    "# 4: Split Data into Traning and Testing Splits"
   ]
  },
  {
   "cell_type": "code",
   "execution_count": 39,
   "id": "5b645b7d",
   "metadata": {},
   "outputs": [
    {
     "name": "stdout",
     "output_type": "stream",
     "text": [
      "\n",
      "Data split into training and testing sets.\n",
      "Training set size: 37500\n",
      "Testing set size: 12500\n"
     ]
    }
   ],
   "source": [
    "X_train, X_test, y_train, y_test = train_test_split(\n",
    "    X, y, test_size=0.25, random_state=42, stratify=y\n",
    ")\n",
    "print(\"\\nData split into training and testing sets.\")\n",
    "print(\"Training set size:\", len(X_train))\n",
    "print(\"Testing set size:\", len(X_test))\n"
   ]
  },
  {
   "cell_type": "markdown",
   "id": "d66896d3",
   "metadata": {},
   "source": [
    "# 5: Vectorize text using TF-IDF"
   ]
  },
  {
   "cell_type": "code",
   "execution_count": 42,
   "id": "a5fd22e5",
   "metadata": {},
   "outputs": [],
   "source": [
    "# This converts text data into numerical vectors\n",
    "tfidf_vectorizer = TfidfVectorizer(stop_words='english', max_features=5000)\n",
    "\n",
    "# Fit on training data and transform both training and testing data\n",
    "X_train_tfidf = tfidf_vectorizer.fit_transform(X_train)\n",
    "X_test_tfidf = tfidf_vectorizer.transform(X_test)\n"
   ]
  },
  {
   "cell_type": "markdown",
   "id": "66ffe69f",
   "metadata": {},
   "source": [
    "# 6: Build and Train Logistic Regression Model"
   ]
  },
  {
   "cell_type": "code",
   "execution_count": 44,
   "id": "4377f568",
   "metadata": {},
   "outputs": [
    {
     "name": "stdout",
     "output_type": "stream",
     "text": [
      "Training the Logistic Regression model...\n",
      "Model training complete.\n"
     ]
    }
   ],
   "source": [
    "lr_model = LogisticRegression(solver='liblinear', random_state=42)\n",
    "print(\"Training the Logistic Regression model...\")\n",
    "lr_model.fit(X_train_tfidf, y_train)\n",
    "print(\"Model training complete.\")"
   ]
  },
  {
   "cell_type": "markdown",
   "id": "91d14db1",
   "metadata": {},
   "source": [
    "# 7: Evaluate the Model"
   ]
  },
  {
   "cell_type": "code",
   "execution_count": 47,
   "id": "c0c3bf15",
   "metadata": {},
   "outputs": [
    {
     "name": "stdout",
     "output_type": "stream",
     "text": [
      "\n",
      "--- Model Evaluation Results ---\n",
      "Accuracy: 89.01%\n",
      "\n",
      "Classification Report:\n",
      "              precision    recall  f1-score   support\n",
      "\n",
      "    Negative       0.90      0.88      0.89      6250\n",
      "    Positive       0.88      0.90      0.89      6250\n",
      "\n",
      "    accuracy                           0.89     12500\n",
      "   macro avg       0.89      0.89      0.89     12500\n",
      "weighted avg       0.89      0.89      0.89     12500\n",
      "\n"
     ]
    }
   ],
   "source": [
    "y_pred = lr_model.predict(X_test_tfidf)\n",
    "\n",
    "\n",
    "accuracy = accuracy_score(y_test, y_pred)\n",
    "report = classification_report(y_test, y_pred, target_names=['Negative', 'Positive'])\n",
    "\n",
    "print(f\"\\n--- Model Evaluation Results ---\")\n",
    "print(f\"Accuracy: {accuracy * 100:.2f}%\")\n",
    "print(\"\\nClassification Report:\")\n",
    "print(report)"
   ]
  },
  {
   "cell_type": "markdown",
   "id": "2de35f16",
   "metadata": {},
   "source": [
    "# Key Notes:"
   ]
  },
  {
   "cell_type": "markdown",
   "id": "408896d1",
   "metadata": {},
   "source": [
    "\n",
    "This project demonstrates sentiment analysis on customer reviews using:\n",
    "1) Text preprocessing\n",
    "2) TF-IDF vectorization Logistic Regression modeling\n",
    "3) Evaluation using accuracy and classification report\n",
    "\n",
    "   Link for the dataset - https://www.kaggle.com/code/nourhankarm/sentiment-analysis-of-movie-reviews-imdb-dataset/notebook\n",
    "    "
   ]
  },
  {
   "cell_type": "code",
   "execution_count": null,
   "id": "a3c34564-5072-4a4b-a250-3b766c60e2e6",
   "metadata": {},
   "outputs": [],
   "source": []
  },
  {
   "cell_type": "code",
   "execution_count": null,
   "id": "a277a181-1e2d-4d93-93cf-e8fcb377a1e7",
   "metadata": {},
   "outputs": [],
   "source": []
  }
 ],
 "metadata": {
  "kernelspec": {
   "display_name": "Python 3 (ipykernel)",
   "language": "python",
   "name": "python3"
  },
  "language_info": {
   "codemirror_mode": {
    "name": "ipython",
    "version": 3
   },
   "file_extension": ".py",
   "mimetype": "text/x-python",
   "name": "python",
   "nbconvert_exporter": "python",
   "pygments_lexer": "ipython3",
   "version": "3.12.7"
  }
 },
 "nbformat": 4,
 "nbformat_minor": 5
}
